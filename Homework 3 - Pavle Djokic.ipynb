{
 "cells": [
  {
   "cell_type": "markdown",
   "id": "6aa6afbf",
   "metadata": {},
   "source": [
    "Question 1"
   ]
  },
  {
   "cell_type": "markdown",
   "id": "aaa526a4",
   "metadata": {},
   "source": [
    "Q1"
   ]
  },
  {
   "cell_type": "code",
   "execution_count": 30,
   "id": "1f82d9c3",
   "metadata": {},
   "outputs": [
    {
     "data": {
      "text/plain": [
       "88"
      ]
     },
     "execution_count": 30,
     "metadata": {},
     "output_type": "execute_result"
    }
   ],
   "source": [
    "marks = {'Andy':88, 'Amy':66, 'James': 90, 'Jules': 55, 'Arthur': 77}\n",
    "\n",
    "def findgrade(name1):\n",
    "    for name, grade in marks.items():\n",
    "        if name1 == name:\n",
    "            return grade\n",
    "    return \"Cannot find this student's name\"\n",
    "\n",
    "findgrade('Andy')"
   ]
  },
  {
   "cell_type": "code",
   "execution_count": 31,
   "id": "70c382a2",
   "metadata": {},
   "outputs": [
    {
     "data": {
      "text/plain": [
       "\"Cannot find this student's name\""
      ]
     },
     "execution_count": 31,
     "metadata": {},
     "output_type": "execute_result"
    }
   ],
   "source": [
    "findgrade('John')"
   ]
  },
  {
   "cell_type": "markdown",
   "id": "70d4ed92",
   "metadata": {},
   "source": [
    "Q2"
   ]
  },
  {
   "cell_type": "code",
   "execution_count": 32,
   "id": "b9cf2e7d",
   "metadata": {},
   "outputs": [
    {
     "name": "stdout",
     "output_type": "stream",
     "text": [
      "Class average is: 75.2\n"
     ]
    }
   ],
   "source": [
    "def avggrade(grades):\n",
    "    total = 0\n",
    "    count = 0\n",
    "    for name, grade in grades.items():\n",
    "        total += grade\n",
    "        count += 1\n",
    "    print(f\"Class average is: {total / count}\")\n",
    "    \n",
    "avggrade(marks)"
   ]
  },
  {
   "cell_type": "markdown",
   "id": "4af96c83",
   "metadata": {},
   "source": [
    "Question 2"
   ]
  },
  {
   "cell_type": "code",
   "execution_count": 16,
   "id": "e90d2eb6",
   "metadata": {},
   "outputs": [
    {
     "name": "stdout",
     "output_type": "stream",
     "text": [
      "0 0\n",
      "1 1\n",
      "2 4\n",
      "3 9\n",
      "4 16\n",
      "5 25\n",
      "6 36\n",
      "7 49\n",
      "greater than  8\n"
     ]
    }
   ],
   "source": [
    "def square(num):\n",
    "    n = 0\n",
    "    while n < num:\n",
    "        nsq = n ** 2\n",
    "        print(n, nsq)\n",
    "        n+=1\n",
    "    else:\n",
    "        print(\"greater than \", num)\n",
    "\n",
    "square(8)"
   ]
  },
  {
   "cell_type": "markdown",
   "id": "3c515a7d",
   "metadata": {},
   "source": [
    "Question 3"
   ]
  },
  {
   "cell_type": "code",
   "execution_count": 17,
   "id": "b8976529",
   "metadata": {},
   "outputs": [
    {
     "data": {
      "text/plain": [
       "465"
      ]
     },
     "execution_count": 17,
     "metadata": {},
     "output_type": "execute_result"
    }
   ],
   "source": [
    "def sumfunction(num):\n",
    "    n = 1\n",
    "    sum = 0\n",
    "    while n <= num:\n",
    "        sum += n\n",
    "        n += 1\n",
    "        \n",
    "    return sum\n",
    "\n",
    "sumfunction(30)"
   ]
  },
  {
   "cell_type": "markdown",
   "id": "b3e99c14",
   "metadata": {},
   "source": [
    "Question 4"
   ]
  },
  {
   "cell_type": "code",
   "execution_count": 19,
   "id": "89d412ee",
   "metadata": {},
   "outputs": [
    {
     "name": "stdout",
     "output_type": "stream",
     "text": [
      "0\n",
      "1\n",
      "3\n",
      "6\n",
      "10\n",
      "15\n",
      "21\n",
      "28\n",
      "36\n",
      "45\n",
      "55\n"
     ]
    }
   ],
   "source": [
    "def range_sum(num):\n",
    "    sum = 0\n",
    "    for n in range(num):\n",
    "        sum += n\n",
    "        print(sum)\n",
    "        \n",
    "range_sum(11)"
   ]
  },
  {
   "cell_type": "markdown",
   "id": "0f7e07f5",
   "metadata": {},
   "source": [
    "Question 5"
   ]
  },
  {
   "cell_type": "code",
   "execution_count": 30,
   "id": "0fb676ef",
   "metadata": {},
   "outputs": [
    {
     "name": "stdout",
     "output_type": "stream",
     "text": [
      "mean =  50\n",
      "sum =  4950\n",
      "standard deviation =  28.722813232690143\n"
     ]
    }
   ],
   "source": [
    "nums = list(range(1,100))\n",
    "\n",
    "import statistics\n",
    "\n",
    "def mathfunction(list1):\n",
    "    mean = statistics.mean(list1)\n",
    "    stdev = statistics.stdev(list1)\n",
    "    Sum = sum(list1)\n",
    "    print(\"mean = \", mean)\n",
    "    print(\"sum = \", Sum)\n",
    "    print(\"standard deviation = \", stdev)\n",
    "    \n",
    "mathfunction(nums)\n",
    "\n",
    "    "
   ]
  },
  {
   "cell_type": "markdown",
   "id": "1e184bc4",
   "metadata": {},
   "source": [
    "Question 6"
   ]
  },
  {
   "cell_type": "markdown",
   "id": "e6f5bb2e",
   "metadata": {},
   "source": [
    "Q1"
   ]
  },
  {
   "cell_type": "code",
   "execution_count": 34,
   "id": "bd025fa3",
   "metadata": {},
   "outputs": [
    {
     "data": {
      "text/plain": [
       "25"
      ]
     },
     "execution_count": 34,
     "metadata": {},
     "output_type": "execute_result"
    }
   ],
   "source": [
    "def minimal(v1, v2, v3, v4):\n",
    "    min_value = v1\n",
    "    if v2 < min_value:\n",
    "        min_value = v2\n",
    "    if v3 < min_value:\n",
    "        min_value = v3\n",
    "    if v4 < min_value:\n",
    "        min_value = v4\n",
    "    return min_value\n",
    "\n",
    "minimal(100, 25, 131, 221)"
   ]
  },
  {
   "cell_type": "markdown",
   "id": "ce5f2ff0",
   "metadata": {},
   "source": [
    "Q2"
   ]
  },
  {
   "cell_type": "code",
   "execution_count": 35,
   "id": "dbbb8f63",
   "metadata": {},
   "outputs": [
    {
     "name": "stdout",
     "output_type": "stream",
     "text": [
      "25\n"
     ]
    }
   ],
   "source": [
    "def print1(function):\n",
    "    print(function)\n",
    "    \n",
    "print1(minimal(100, 25, 131, 221))"
   ]
  }
 ],
 "metadata": {
  "kernelspec": {
   "display_name": "Python 3 (ipykernel)",
   "language": "python",
   "name": "python3"
  },
  "language_info": {
   "codemirror_mode": {
    "name": "ipython",
    "version": 3
   },
   "file_extension": ".py",
   "mimetype": "text/x-python",
   "name": "python",
   "nbconvert_exporter": "python",
   "pygments_lexer": "ipython3",
   "version": "3.9.7"
  }
 },
 "nbformat": 4,
 "nbformat_minor": 5
}

{
 "cells": [
  {
   "cell_type": "markdown",
   "id": "27a0b19c",
   "metadata": {},
   "source": [
    "Question 1"
   ]
  },
  {
   "cell_type": "code",
   "execution_count": 5,
   "id": "69409fb2",
   "metadata": {},
   "outputs": [
    {
     "name": "stdout",
     "output_type": "stream",
     "text": [
      "0\n",
      "1\n",
      "2\n",
      "3\n",
      "4\n"
     ]
    }
   ],
   "source": [
    "n = 0\n",
    "while n < 10:\n",
    "    print(n)\n",
    "    n += 1\n",
    "    if n == 5:\n",
    "        break"
   ]
  },
  {
   "cell_type": "markdown",
   "id": "d5a1f7a9",
   "metadata": {},
   "source": [
    "Question 2"
   ]
  },
  {
   "cell_type": "code",
   "execution_count": 6,
   "id": "801c29b7",
   "metadata": {},
   "outputs": [
    {
     "name": "stdout",
     "output_type": "stream",
     "text": [
      "0\n",
      "1\n",
      "2\n",
      "3\n",
      "4\n",
      "5 is not less than 5\n"
     ]
    }
   ],
   "source": [
    "n = 0\n",
    "while n < 5:\n",
    "    print(n)\n",
    "    n += 1\n",
    "else:\n",
    "    print (n, \"is not less than 5\")"
   ]
  },
  {
   "cell_type": "markdown",
   "id": "733f17c9",
   "metadata": {},
   "source": [
    "Question 3"
   ]
  },
  {
   "cell_type": "code",
   "execution_count": 2,
   "id": "eedcb970",
   "metadata": {},
   "outputs": [
    {
     "name": "stdout",
     "output_type": "stream",
     "text": [
      "I Like  mango\n",
      "I Like  peach\n",
      "apple is really a fruit?\n"
     ]
    }
   ],
   "source": [
    "for i in ['mango', 'peach', 'apple', 'banana']:\n",
    "    if 'apple' in i:\n",
    "        print (i, \"is really a fruit?\")\n",
    "        break\n",
    "    else:\n",
    "        print (\"I Like \", i)"
   ]
  },
  {
   "cell_type": "markdown",
   "id": "3c5a4b92",
   "metadata": {},
   "source": [
    "Question 4"
   ]
  },
  {
   "cell_type": "code",
   "execution_count": 12,
   "id": "9637bc2a",
   "metadata": {},
   "outputs": [
    {
     "name": "stdout",
     "output_type": "stream",
     "text": [
      "The sum is 465\n"
     ]
    }
   ],
   "source": [
    "n = 30\n",
    "sum = 0\n",
    "i = 1\n",
    "\n",
    "while i <= n:\n",
    "    sum = sum + i\n",
    "    i = i+1\n",
    "    \n",
    "print(\"The sum is\", sum)"
   ]
  },
  {
   "cell_type": "markdown",
   "id": "f102145a",
   "metadata": {},
   "source": [
    "Question 5"
   ]
  },
  {
   "cell_type": "code",
   "execution_count": 18,
   "id": "40a02e61",
   "metadata": {},
   "outputs": [
    {
     "name": "stdout",
     "output_type": "stream",
     "text": [
      "Grade is a F\n"
     ]
    }
   ],
   "source": [
    "grade = 55\n",
    "if grade >= 90:\n",
    "    print (\"Grade is an A\")\n",
    "elif grade in range(80, 91):\n",
    "    print (\"Grade is a B\")\n",
    "elif grade in range(70, 81):\n",
    "    print (\"Grade is a C\")\n",
    "elif grade in range(60, 71):\n",
    "    print (\"Grade is a D\")\n",
    "else:\n",
    "    print (\"Grade is a F\")"
   ]
  },
  {
   "cell_type": "markdown",
   "id": "81f87f97",
   "metadata": {},
   "source": [
    "Question 6"
   ]
  },
  {
   "cell_type": "markdown",
   "id": "27e041d1",
   "metadata": {},
   "source": [
    "Question 6.1"
   ]
  },
  {
   "cell_type": "code",
   "execution_count": 24,
   "id": "705ee48b",
   "metadata": {},
   "outputs": [
    {
     "name": "stdout",
     "output_type": "stream",
     "text": [
      "Grade for Andy is 88\n",
      "Grade for Amy is 66\n",
      "Grade for James is 90\n",
      "Grade for Jules is 55\n",
      "Grade for Arthur is 77\n"
     ]
    }
   ],
   "source": [
    "marks = {'Andy':88, 'Amy':66, 'James': 90, 'Jules': 55, 'Arthur': 77}\n",
    "for name, grade in marks.items():\n",
    "    print(f'Grade for {name} is {grade}')"
   ]
  },
  {
   "cell_type": "markdown",
   "id": "e136af44",
   "metadata": {},
   "source": [
    "Question 6.2"
   ]
  },
  {
   "cell_type": "code",
   "execution_count": 38,
   "id": "dad39d4d",
   "metadata": {},
   "outputs": [
    {
     "name": "stdout",
     "output_type": "stream",
     "text": [
      "Class average is: 75.2\n",
      "The maximal grade is: 90\n",
      "The minimal grade is: 55\n"
     ]
    }
   ],
   "source": [
    "total = 0\n",
    "count = 0\n",
    "for name, grade in marks.items():\n",
    "    total += grade\n",
    "    count += 1\n",
    "print(f\"Class average is: {total / count}\")\n",
    "grades = marks.values()\n",
    "maxgrade=max(grades)\n",
    "print('The maximal grade is:', maxgrade)\n",
    "mingrade = min(grades)\n",
    "print('The minimal grade is:', mingrade)"
   ]
  },
  {
   "cell_type": "markdown",
   "id": "d2c5d01c",
   "metadata": {},
   "source": [
    "Question 6.3"
   ]
  },
  {
   "cell_type": "code",
   "execution_count": 43,
   "id": "cf33b9c8",
   "metadata": {},
   "outputs": [
    {
     "name": "stdout",
     "output_type": "stream",
     "text": [
      "Andy ,  88\n",
      "Amy ,  66\n"
     ]
    }
   ],
   "source": [
    "for name, grade in marks.items():\n",
    "    if 'J' in name:\n",
    "        break\n",
    "    print(name, ', ', grade)"
   ]
  },
  {
   "cell_type": "markdown",
   "id": "b9d78a15",
   "metadata": {},
   "source": [
    "Question 6.4"
   ]
  },
  {
   "cell_type": "code",
   "execution_count": 44,
   "id": "72e57952",
   "metadata": {},
   "outputs": [
    {
     "name": "stdout",
     "output_type": "stream",
     "text": [
      "Andy ,  88\n",
      "Amy ,  66\n",
      "Arthur ,  77\n"
     ]
    }
   ],
   "source": [
    "for name, grade in marks.items():\n",
    "    if 'J' in name:\n",
    "        continue\n",
    "    print(name, ', ', grade)"
   ]
  }
 ],
 "metadata": {
  "kernelspec": {
   "display_name": "Python 3 (ipykernel)",
   "language": "python",
   "name": "python3"
  },
  "language_info": {
   "codemirror_mode": {
    "name": "ipython",
    "version": 3
   },
   "file_extension": ".py",
   "mimetype": "text/x-python",
   "name": "python",
   "nbconvert_exporter": "python",
   "pygments_lexer": "ipython3",
   "version": "3.9.7"
  }
 },
 "nbformat": 4,
 "nbformat_minor": 5
}

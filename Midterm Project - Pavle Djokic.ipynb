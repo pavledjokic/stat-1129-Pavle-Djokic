{
 "cells": [
  {
   "cell_type": "markdown",
   "id": "79bc0a6b",
   "metadata": {},
   "source": [
    "Quesion 1:"
   ]
  },
  {
   "cell_type": "markdown",
   "id": "a8b3b366",
   "metadata": {},
   "source": [
    "Importing the Data"
   ]
  },
  {
   "cell_type": "code",
   "execution_count": 1,
   "id": "891141cd",
   "metadata": {},
   "outputs": [
    {
     "name": "stdout",
     "output_type": "stream",
     "text": [
      "2,4,6,8,4,5,2,1,9,0,4,6,7,4,3,2,1,9,10,3,7,9,6,0,1,3,5,6,7,8,9,10,2,3,6,8,9,10,6,7,4,3\n",
      "2,1,9,10,3,7,9,6,0,1,3,5,6,7,8,9,10,2,3,6,8,9,10,2,4,6,8,4,5,2,1,9,0,4,6,7,4,3,2,1,9,10,3,7,9,6\n",
      "4,5,2,1,9,0,4,6,7,4,3,2,1,9,10,3,7,9,6,0,1,3,5,6,7,8,9,10,2,3,6,8,9,10,6,7,4,3,6,8,4,5,2\n",
      "10,3,7,9,6,0,1,3,5,6,7,8,9,10,2,3,6,8,9,10,2,4,6,8,4,5,2,1,9,0,4,6,7,4\n",
      "2,4,6,8,4,5,2,1,9,0,4,6,7,4,3,2,1,9,10,3,7,9,6\n"
     ]
    }
   ],
   "source": [
    "numbers = open(\"c:/stat/numbers.txt\", \"r\")\n",
    "data = numbers.read()\n",
    "print(data)"
   ]
  },
  {
   "cell_type": "markdown",
   "id": "7c3b0f74",
   "metadata": {},
   "source": [
    "Cleaning the Data"
   ]
  },
  {
   "cell_type": "code",
   "execution_count": 2,
   "id": "48fd1f1e",
   "metadata": {},
   "outputs": [
    {
     "name": "stdout",
     "output_type": "stream",
     "text": [
      "[0, 0, 0, 0, 0, 0, 0, 0, 0, 1, 1, 1, 1, 1, 1, 1, 1, 1, 1, 1, 1, 1, 1, 2, 2, 2, 2, 2, 2, 2, 2, 2, 2, 2, 2, 2, 2, 2, 2, 2, 2, 2, 3, 3, 3, 3, 3, 3, 3, 3, 3, 3, 3, 3, 3, 3, 3, 3, 3, 3, 3, 3, 4, 4, 4, 4, 4, 4, 4, 4, 4, 4, 4, 4, 4, 4, 4, 4, 4, 4, 4, 4, 4, 4, 5, 5, 5, 5, 5, 5, 5, 5, 5, 5, 6, 6, 6, 6, 6, 6, 6, 6, 6, 6, 6, 6, 6, 6, 6, 6, 6, 6, 6, 6, 6, 6, 6, 6, 6, 6, 7, 7, 7, 7, 7, 7, 7, 7, 7, 7, 7, 7, 7, 7, 7, 7, 7, 8, 8, 8, 8, 8, 8, 8, 8, 8, 8, 8, 8, 8, 9, 9, 9, 9, 9, 9, 9, 9, 9, 9, 9, 9, 9, 9, 9, 9, 9, 9, 9, 9, 9, 9, 9, 9, 10, 10, 10, 10, 10, 10, 10, 10, 10, 10, 10, 10, 10, 10]\n"
     ]
    }
   ],
   "source": [
    "data = data.replace('\\n',\",\")\n",
    "data_list = data.split(\",\")\n",
    "data_list = [int(i) for i in data_list]\n",
    "data_list.sort()\n",
    "print(data_list)"
   ]
  },
  {
   "cell_type": "markdown",
   "id": "b78b4619",
   "metadata": {},
   "source": [
    "Finding the Frequency of Each Number Using a Dictionary"
   ]
  },
  {
   "cell_type": "code",
   "execution_count": 3,
   "id": "2e60d79b",
   "metadata": {},
   "outputs": [
    {
     "name": "stdout",
     "output_type": "stream",
     "text": [
      " 0 :  9\n",
      " 1 :  14\n",
      " 2 :  19\n",
      " 3 :  20\n",
      " 4 :  22\n",
      " 5 :  10\n",
      " 6 :  26\n",
      " 7 :  17\n",
      " 8 :  13\n",
      " 9 :  24\n",
      " 10 :  14\n",
      "0 occurs 9 times\n",
      "1 occurs 14 times\n",
      "2 occurs 19 times\n",
      "3 occurs 20 times\n",
      "4 occurs 22 times\n",
      "5 occurs 10 times\n",
      "6 occurs 26 times\n",
      "7 occurs 17 times\n",
      "8 occurs 13 times\n",
      "9 occurs 24 times\n",
      "10 occurs 14 times\n"
     ]
    }
   ],
   "source": [
    "freq = {}\n",
    "for num in data_list:\n",
    "    if num in freq:\n",
    "        freq[num] +=1\n",
    "    else:\n",
    "        freq[num] = 1\n",
    "        \n",
    "for key, value in freq.items():\n",
    "        print (\"% d : % d\"%(key, value))\n",
    "\n",
    "for key, value in freq.items():\n",
    "        print (f'{key} occurs {value} times')"
   ]
  },
  {
   "cell_type": "markdown",
   "id": "f15a6462",
   "metadata": {},
   "source": [
    "Bar Plot of Frequency Results"
   ]
  },
  {
   "cell_type": "code",
   "execution_count": 4,
   "id": "4cf8b02d",
   "metadata": {},
   "outputs": [
    {
     "data": {
      "image/png": "[encoded data removed]",
      "text/plain": [
       "<Figure size 432x288 with 1 Axes>"
      ]
     },
     "metadata": {
      "needs_background": "light"
     },
     "output_type": "display_data"
    }
   ],
   "source": [
    "import matplotlib.pyplot as plt\n",
    "\n",
    "plt.bar(list(freq.keys()), freq.values())\n",
    "plt.xlabel(\"Numbers\")\n",
    "plt.ylabel(\"Frequency\")\n",
    "plt.show()"
   ]
  },
  {
   "cell_type": "markdown",
   "id": "c69ba312",
   "metadata": {},
   "source": [
    "Storing Dictionary Results into a JSON File & Storing Locally on Computer"
   ]
  },
  {
   "cell_type": "code",
   "execution_count": 5,
   "id": "8ae241ae",
   "metadata": {},
   "outputs": [
    {
     "name": "stdout",
     "output_type": "stream",
     "text": [
      "{\"0\": 9, \"1\": 14, \"2\": 19, \"3\": 20, \"4\": 22, \"5\": 10, \"6\": 26, \"7\": 17, \"8\": 13, \"9\": 24, \"10\": 14}\n"
     ]
    }
   ],
   "source": [
    "import json\n",
    "\n",
    "freqjson = json.dumps(freq)\n",
    "\n",
    "print(freqjson)\n",
    "\n",
    "with open('c:/stat/freqjson.json', 'w') as outfile:\n",
    "    outfile.write(freqjson)"
   ]
  },
  {
   "cell_type": "markdown",
   "id": "74cfbf82",
   "metadata": {},
   "source": [
    "Question 2: Choice 2 (Amazon Spending Data)"
   ]
  },
  {
   "cell_type": "markdown",
   "id": "43df270d",
   "metadata": {},
   "source": [
    "Importing the Data"
   ]
  },
  {
   "cell_type": "code",
   "execution_count": 6,
   "id": "50887f25",
   "metadata": {},
   "outputs": [
    {
     "data": {
      "text/html": [
       "<div>\n",
       "<style scoped>\n",
       "    .dataframe tbody tr th:only-of-type {\n",
       "        vertical-align: middle;\n",
       "    }\n",
       "\n",
       "    .dataframe tbody tr th {\n",
       "        vertical-align: top;\n",
       "    }\n",
       "\n",
       "    .dataframe thead th {\n",
       "        text-align: right;\n",
       "    }\n",
       "</style>\n",
       "<table border=\"1\" class=\"dataframe\">\n",
       "  <thead>\n",
       "    <tr style=\"text-align: right;\">\n",
       "      <th></th>\n",
       "      <th>Order Date</th>\n",
       "      <th>Order ID</th>\n",
       "      <th>Title</th>\n",
       "      <th>Category</th>\n",
       "      <th>ASIN/ISBN</th>\n",
       "      <th>UNSPSC Code</th>\n",
       "      <th>Website</th>\n",
       "      <th>Release Date</th>\n",
       "      <th>Condition</th>\n",
       "      <th>Seller</th>\n",
       "      <th>...</th>\n",
       "      <th>Carrier Name &amp; Tracking Number</th>\n",
       "      <th>Item Subtotal</th>\n",
       "      <th>Item Subtotal Tax</th>\n",
       "      <th>Total Promotions</th>\n",
       "      <th>Item Total</th>\n",
       "      <th>Tax Exemption Type</th>\n",
       "      <th>Exemption Opt-Out</th>\n",
       "      <th>Buyer Name</th>\n",
       "      <th>Currency</th>\n",
       "      <th>Group Name</th>\n",
       "    </tr>\n",
       "  </thead>\n",
       "  <tbody>\n",
       "    <tr>\n",
       "      <th>0</th>\n",
       "      <td>4/1/2019</td>\n",
       "      <td>112-0000000-0000001</td>\n",
       "      <td>Order1</td>\n",
       "      <td>cat1</td>\n",
       "      <td>B07BF3NQS1</td>\n",
       "      <td>53100000</td>\n",
       "      <td>Amazon.com</td>\n",
       "      <td>4/1/2019</td>\n",
       "      <td>new</td>\n",
       "      <td>Seller1</td>\n",
       "      <td>...</td>\n",
       "      <td>USPS(9361289678092730535100)</td>\n",
       "      <td>$35.00</td>\n",
       "      <td>$3.50</td>\n",
       "      <td>$0.00</td>\n",
       "      <td>$38.50</td>\n",
       "      <td>NaN</td>\n",
       "      <td>NaN</td>\n",
       "      <td>Your Name</td>\n",
       "      <td>USD</td>\n",
       "      <td>NaN</td>\n",
       "    </tr>\n",
       "    <tr>\n",
       "      <th>1</th>\n",
       "      <td>4/1/2019</td>\n",
       "      <td>112-0000000-0000002</td>\n",
       "      <td>Order2</td>\n",
       "      <td>cat2</td>\n",
       "      <td>B07BF3NQS2</td>\n",
       "      <td>53100000</td>\n",
       "      <td>Amazon.com</td>\n",
       "      <td>4/1/2019</td>\n",
       "      <td>new</td>\n",
       "      <td>Seller2</td>\n",
       "      <td>...</td>\n",
       "      <td>USPS(9361289678092730535100)</td>\n",
       "      <td>$16.99</td>\n",
       "      <td>$1.70</td>\n",
       "      <td>$0.00</td>\n",
       "      <td>$18.69</td>\n",
       "      <td>NaN</td>\n",
       "      <td>NaN</td>\n",
       "      <td>Your Name</td>\n",
       "      <td>USD</td>\n",
       "      <td>NaN</td>\n",
       "    </tr>\n",
       "    <tr>\n",
       "      <th>2</th>\n",
       "      <td>4/1/2019</td>\n",
       "      <td>112-0000000-0000003</td>\n",
       "      <td>Order3</td>\n",
       "      <td>cat3</td>\n",
       "      <td>B07BF3NQS3</td>\n",
       "      <td>53100000</td>\n",
       "      <td>Amazon.com</td>\n",
       "      <td>4/1/2019</td>\n",
       "      <td>new</td>\n",
       "      <td>Seller3</td>\n",
       "      <td>...</td>\n",
       "      <td>USPS(9361289678092730535100)</td>\n",
       "      <td>$9.99</td>\n",
       "      <td>$1.00</td>\n",
       "      <td>$0.00</td>\n",
       "      <td>$10.99</td>\n",
       "      <td>NaN</td>\n",
       "      <td>NaN</td>\n",
       "      <td>Your Name</td>\n",
       "      <td>USD</td>\n",
       "      <td>NaN</td>\n",
       "    </tr>\n",
       "    <tr>\n",
       "      <th>3</th>\n",
       "      <td>4/4/2019</td>\n",
       "      <td>112-0000000-0000004</td>\n",
       "      <td>Order4</td>\n",
       "      <td>cat4</td>\n",
       "      <td>B07BF3NQS4</td>\n",
       "      <td>53100000</td>\n",
       "      <td>Amazon.com</td>\n",
       "      <td>4/4/2019</td>\n",
       "      <td>new</td>\n",
       "      <td>Seller4</td>\n",
       "      <td>...</td>\n",
       "      <td>USPS(9361289678092730535100)</td>\n",
       "      <td>$147.98</td>\n",
       "      <td>$14.80</td>\n",
       "      <td>$0.00</td>\n",
       "      <td>$162.78</td>\n",
       "      <td>NaN</td>\n",
       "      <td>NaN</td>\n",
       "      <td>Your Name</td>\n",
       "      <td>USD</td>\n",
       "      <td>NaN</td>\n",
       "    </tr>\n",
       "    <tr>\n",
       "      <th>4</th>\n",
       "      <td>4/5/2019</td>\n",
       "      <td>112-0000000-0000005</td>\n",
       "      <td>Order5</td>\n",
       "      <td>cat5</td>\n",
       "      <td>B07BF3NQS5</td>\n",
       "      <td>53100000</td>\n",
       "      <td>Amazon.com</td>\n",
       "      <td>4/5/2019</td>\n",
       "      <td>new</td>\n",
       "      <td>Seller5</td>\n",
       "      <td>...</td>\n",
       "      <td>USPS(9361289678092730535100)</td>\n",
       "      <td>$14.99</td>\n",
       "      <td>$1.50</td>\n",
       "      <td>$0.00</td>\n",
       "      <td>$16.49</td>\n",
       "      <td>NaN</td>\n",
       "      <td>NaN</td>\n",
       "      <td>Your Name</td>\n",
       "      <td>USD</td>\n",
       "      <td>NaN</td>\n",
       "    </tr>\n",
       "  </tbody>\n",
       "</table>\n",
       "<p>5 rows × 36 columns</p>\n",
       "</div>"
      ],
      "text/plain": [
       "  Order Date             Order ID   Title Category   ASIN/ISBN  UNSPSC Code  \\\n",
       "0   4/1/2019  112-0000000-0000001  Order1     cat1  B07BF3NQS1     53100000   \n",
       "1   4/1/2019  112-0000000-0000002  Order2     cat2  B07BF3NQS2     53100000   \n",
       "2   4/1/2019  112-0000000-0000003  Order3     cat3  B07BF3NQS3     53100000   \n",
       "3   4/4/2019  112-0000000-0000004  Order4     cat4  B07BF3NQS4     53100000   \n",
       "4   4/5/2019  112-0000000-0000005  Order5     cat5  B07BF3NQS5     53100000   \n",
       "\n",
       "      Website Release Date Condition   Seller  ...  \\\n",
       "0  Amazon.com     4/1/2019       new  Seller1  ...   \n",
       "1  Amazon.com     4/1/2019       new  Seller2  ...   \n",
       "2  Amazon.com     4/1/2019       new  Seller3  ...   \n",
       "3  Amazon.com     4/4/2019       new  Seller4  ...   \n",
       "4  Amazon.com     4/5/2019       new  Seller5  ...   \n",
       "\n",
       "   Carrier Name & Tracking Number Item Subtotal Item Subtotal Tax  \\\n",
       "0    USPS(9361289678092730535100)       $35.00             $3.50    \n",
       "1    USPS(9361289678092730535100)       $16.99             $1.70    \n",
       "2    USPS(9361289678092730535100)        $9.99             $1.00    \n",
       "3    USPS(9361289678092730535100)      $147.98            $14.80    \n",
       "4    USPS(9361289678092730535100)       $14.99             $1.50    \n",
       "\n",
       "   Total Promotions Item Total  Tax Exemption Type  Exemption Opt-Out  \\\n",
       "0            $0.00     $38.50                  NaN                NaN   \n",
       "1            $0.00     $18.69                  NaN                NaN   \n",
       "2            $0.00     $10.99                  NaN                NaN   \n",
       "3            $0.00    $162.78                  NaN                NaN   \n",
       "4            $0.00     $16.49                  NaN                NaN   \n",
       "\n",
       "  Buyer Name Currency Group Name  \n",
       "0  Your Name      USD        NaN  \n",
       "1  Your Name      USD        NaN  \n",
       "2  Your Name      USD        NaN  \n",
       "3  Your Name      USD        NaN  \n",
       "4  Your Name      USD        NaN  \n",
       "\n",
       "[5 rows x 36 columns]"
      ]
     },
     "execution_count": 6,
     "metadata": {},
     "output_type": "execute_result"
    }
   ],
   "source": [
    "import pandas as pd\n",
    "\n",
    "df = pd.read_csv('c:/stat/amazon-orders.csv')\n",
    "df.head()"
   ]
  },
  {
   "cell_type": "markdown",
   "id": "d1987814",
   "metadata": {},
   "source": [
    "Cleaning the Data - Filling Empty Values with 0 & Removing Unnecessary Columns"
   ]
  },
  {
   "cell_type": "code",
   "execution_count": 7,
   "id": "82492f99",
   "metadata": {},
   "outputs": [
    {
     "data": {
      "text/html": [
       "<div>\n",
       "<style scoped>\n",
       "    .dataframe tbody tr th:only-of-type {\n",
       "        vertical-align: middle;\n",
       "    }\n",
       "\n",
       "    .dataframe tbody tr th {\n",
       "        vertical-align: top;\n",
       "    }\n",
       "\n",
       "    .dataframe thead th {\n",
       "        text-align: right;\n",
       "    }\n",
       "</style>\n",
       "<table border=\"1\" class=\"dataframe\">\n",
       "  <thead>\n",
       "    <tr style=\"text-align: right;\">\n",
       "      <th></th>\n",
       "      <th>Order Date</th>\n",
       "      <th>Item Subtotal</th>\n",
       "      <th>Item Subtotal Tax</th>\n",
       "      <th>Total Promotions</th>\n",
       "      <th>Item Total</th>\n",
       "    </tr>\n",
       "  </thead>\n",
       "  <tbody>\n",
       "    <tr>\n",
       "      <th>0</th>\n",
       "      <td>4/1/2019</td>\n",
       "      <td>$35.00</td>\n",
       "      <td>$3.50</td>\n",
       "      <td>$0.00</td>\n",
       "      <td>$38.50</td>\n",
       "    </tr>\n",
       "    <tr>\n",
       "      <th>1</th>\n",
       "      <td>4/1/2019</td>\n",
       "      <td>$16.99</td>\n",
       "      <td>$1.70</td>\n",
       "      <td>$0.00</td>\n",
       "      <td>$18.69</td>\n",
       "    </tr>\n",
       "    <tr>\n",
       "      <th>2</th>\n",
       "      <td>4/1/2019</td>\n",
       "      <td>$9.99</td>\n",
       "      <td>$1.00</td>\n",
       "      <td>$0.00</td>\n",
       "      <td>$10.99</td>\n",
       "    </tr>\n",
       "    <tr>\n",
       "      <th>3</th>\n",
       "      <td>4/4/2019</td>\n",
       "      <td>$147.98</td>\n",
       "      <td>$14.80</td>\n",
       "      <td>$0.00</td>\n",
       "      <td>$162.78</td>\n",
       "    </tr>\n",
       "    <tr>\n",
       "      <th>4</th>\n",
       "      <td>4/5/2019</td>\n",
       "      <td>$14.99</td>\n",
       "      <td>$1.50</td>\n",
       "      <td>$0.00</td>\n",
       "      <td>$16.49</td>\n",
       "    </tr>\n",
       "  </tbody>\n",
       "</table>\n",
       "</div>"
      ],
      "text/plain": [
       "  Order Date Item Subtotal Item Subtotal Tax Total Promotions Item Total\n",
       "0   4/1/2019       $35.00             $3.50            $0.00     $38.50 \n",
       "1   4/1/2019       $16.99             $1.70            $0.00     $18.69 \n",
       "2   4/1/2019        $9.99             $1.00            $0.00     $10.99 \n",
       "3   4/4/2019      $147.98            $14.80            $0.00    $162.78 \n",
       "4   4/5/2019       $14.99             $1.50            $0.00     $16.49 "
      ]
     },
     "execution_count": 7,
     "metadata": {},
     "output_type": "execute_result"
    }
   ],
   "source": [
    "df = df.fillna(0)\n",
    "df = df.drop(columns=['Order ID', 'Title', 'Category', 'ASIN/ISBN', 'UNSPSC Code', 'Website', 'Release Date', \n",
    "                      'Condition', 'Seller', 'Seller Credentials', 'List Price Per Unit', 'Purchase Price Per Unit', \n",
    "                      'Quantity', 'Payment Instrument Type', 'Purchase Order Number', 'PO Line Number' , \n",
    "                      'Ordering Customer Email', 'Shipment Date', 'Shipping Address Name', 'Shipping Address Street 1', \n",
    "                      'Shipping Address City', 'Shipping Address Street 2', 'Shipping Address State', 'Shipping Address Zip', \n",
    "                      'Order Status', 'Carrier Name & Tracking Number', 'Tax Exemption Type', 'Exemption Opt-Out', \n",
    "                      'Buyer Name', 'Currency', 'Group Name' ])\n",
    "df.head()"
   ]
  },
  {
   "cell_type": "markdown",
   "id": "6be2ee40",
   "metadata": {},
   "source": [
    "Converting Dollar Figures into Floats"
   ]
  },
  {
   "cell_type": "code",
   "execution_count": 8,
   "id": "af3b23cb",
   "metadata": {},
   "outputs": [
    {
     "name": "stderr",
     "output_type": "stream",
     "text": [
      "C:\\Users\\pdjok\\AppData\\Local\\Temp/ipykernel_8028/1509429033.py:1: FutureWarning: The default value of regex will change from True to False in a future version. In addition, single character regular expressions will *not* be treated as literal strings when regex=True.\n",
      "  df[\"Item Subtotal\"] = df[\"Item Subtotal\"].str.replace('$','').astype(float)\n",
      "C:\\Users\\pdjok\\AppData\\Local\\Temp/ipykernel_8028/1509429033.py:2: FutureWarning: The default value of regex will change from True to False in a future version. In addition, single character regular expressions will *not* be treated as literal strings when regex=True.\n",
      "  df[\"Item Subtotal Tax\"] = df[\"Item Subtotal Tax\"].str.replace('$','').astype(float)\n",
      "C:\\Users\\pdjok\\AppData\\Local\\Temp/ipykernel_8028/1509429033.py:3: FutureWarning: The default value of regex will change from True to False in a future version. In addition, single character regular expressions will *not* be treated as literal strings when regex=True.\n",
      "  df[\"Total Promotions\"] = df[\"Total Promotions\"].str.replace('$','').astype(float)\n",
      "C:\\Users\\pdjok\\AppData\\Local\\Temp/ipykernel_8028/1509429033.py:4: FutureWarning: The default value of regex will change from True to False in a future version. In addition, single character regular expressions will *not* be treated as literal strings when regex=True.\n",
      "  df[\"Item Total\"] = df[\"Item Total\"].str.replace('$','').astype(float)\n"
     ]
    },
    {
     "data": {
      "text/html": [
       "<div>\n",
       "<style scoped>\n",
       "    .dataframe tbody tr th:only-of-type {\n",
       "        vertical-align: middle;\n",
       "    }\n",
       "\n",
       "    .dataframe tbody tr th {\n",
       "        vertical-align: top;\n",
       "    }\n",
       "\n",
       "    .dataframe thead th {\n",
       "        text-align: right;\n",
       "    }\n",
       "</style>\n",
       "<table border=\"1\" class=\"dataframe\">\n",
       "  <thead>\n",
       "    <tr style=\"text-align: right;\">\n",
       "      <th></th>\n",
       "      <th>Order Date</th>\n",
       "      <th>Item Subtotal</th>\n",
       "      <th>Item Subtotal Tax</th>\n",
       "      <th>Total Promotions</th>\n",
       "      <th>Item Total</th>\n",
       "    </tr>\n",
       "  </thead>\n",
       "  <tbody>\n",
       "    <tr>\n",
       "      <th>0</th>\n",
       "      <td>4/1/2019</td>\n",
       "      <td>35.00</td>\n",
       "      <td>3.5</td>\n",
       "      <td>0.0</td>\n",
       "      <td>38.50</td>\n",
       "    </tr>\n",
       "    <tr>\n",
       "      <th>1</th>\n",
       "      <td>4/1/2019</td>\n",
       "      <td>16.99</td>\n",
       "      <td>1.7</td>\n",
       "      <td>0.0</td>\n",
       "      <td>18.69</td>\n",
       "    </tr>\n",
       "    <tr>\n",
       "      <th>2</th>\n",
       "      <td>4/1/2019</td>\n",
       "      <td>9.99</td>\n",
       "      <td>1.0</td>\n",
       "      <td>0.0</td>\n",
       "      <td>10.99</td>\n",
       "    </tr>\n",
       "    <tr>\n",
       "      <th>3</th>\n",
       "      <td>4/4/2019</td>\n",
       "      <td>147.98</td>\n",
       "      <td>14.8</td>\n",
       "      <td>0.0</td>\n",
       "      <td>162.78</td>\n",
       "    </tr>\n",
       "    <tr>\n",
       "      <th>4</th>\n",
       "      <td>4/5/2019</td>\n",
       "      <td>14.99</td>\n",
       "      <td>1.5</td>\n",
       "      <td>0.0</td>\n",
       "      <td>16.49</td>\n",
       "    </tr>\n",
       "  </tbody>\n",
       "</table>\n",
       "</div>"
      ],
      "text/plain": [
       "  Order Date  Item Subtotal  Item Subtotal Tax  Total Promotions  Item Total\n",
       "0   4/1/2019          35.00                3.5               0.0       38.50\n",
       "1   4/1/2019          16.99                1.7               0.0       18.69\n",
       "2   4/1/2019           9.99                1.0               0.0       10.99\n",
       "3   4/4/2019         147.98               14.8               0.0      162.78\n",
       "4   4/5/2019          14.99                1.5               0.0       16.49"
      ]
     },
     "execution_count": 8,
     "metadata": {},
     "output_type": "execute_result"
    }
   ],
   "source": [
    "df[\"Item Subtotal\"] = df[\"Item Subtotal\"].str.replace('$','').astype(float)\n",
    "df[\"Item Subtotal Tax\"] = df[\"Item Subtotal Tax\"].str.replace('$','').astype(float)\n",
    "df[\"Total Promotions\"] = df[\"Total Promotions\"].str.replace('$','').astype(float)\n",
    "df[\"Item Total\"] = df[\"Item Total\"].str.replace('$','').astype(float)\n",
    "df.head()"
   ]
  },
  {
   "cell_type": "markdown",
   "id": "58802464",
   "metadata": {},
   "source": [
    "Converting Date Format"
   ]
  },
  {
   "cell_type": "code",
   "execution_count": 9,
   "id": "b223a692",
   "metadata": {},
   "outputs": [
    {
     "data": {
      "text/html": [
       "<div>\n",
       "<style scoped>\n",
       "    .dataframe tbody tr th:only-of-type {\n",
       "        vertical-align: middle;\n",
       "    }\n",
       "\n",
       "    .dataframe tbody tr th {\n",
       "        vertical-align: top;\n",
       "    }\n",
       "\n",
       "    .dataframe thead th {\n",
       "        text-align: right;\n",
       "    }\n",
       "</style>\n",
       "<table border=\"1\" class=\"dataframe\">\n",
       "  <thead>\n",
       "    <tr style=\"text-align: right;\">\n",
       "      <th></th>\n",
       "      <th>Order Date</th>\n",
       "      <th>Item Subtotal</th>\n",
       "      <th>Item Subtotal Tax</th>\n",
       "      <th>Total Promotions</th>\n",
       "      <th>Item Total</th>\n",
       "    </tr>\n",
       "  </thead>\n",
       "  <tbody>\n",
       "    <tr>\n",
       "      <th>0</th>\n",
       "      <td>2019-04-01</td>\n",
       "      <td>35.00</td>\n",
       "      <td>3.5</td>\n",
       "      <td>0.0</td>\n",
       "      <td>38.50</td>\n",
       "    </tr>\n",
       "    <tr>\n",
       "      <th>1</th>\n",
       "      <td>2019-04-01</td>\n",
       "      <td>16.99</td>\n",
       "      <td>1.7</td>\n",
       "      <td>0.0</td>\n",
       "      <td>18.69</td>\n",
       "    </tr>\n",
       "    <tr>\n",
       "      <th>2</th>\n",
       "      <td>2019-04-01</td>\n",
       "      <td>9.99</td>\n",
       "      <td>1.0</td>\n",
       "      <td>0.0</td>\n",
       "      <td>10.99</td>\n",
       "    </tr>\n",
       "    <tr>\n",
       "      <th>3</th>\n",
       "      <td>2019-04-04</td>\n",
       "      <td>147.98</td>\n",
       "      <td>14.8</td>\n",
       "      <td>0.0</td>\n",
       "      <td>162.78</td>\n",
       "    </tr>\n",
       "    <tr>\n",
       "      <th>4</th>\n",
       "      <td>2019-04-05</td>\n",
       "      <td>14.99</td>\n",
       "      <td>1.5</td>\n",
       "      <td>0.0</td>\n",
       "      <td>16.49</td>\n",
       "    </tr>\n",
       "  </tbody>\n",
       "</table>\n",
       "</div>"
      ],
      "text/plain": [
       "  Order Date  Item Subtotal  Item Subtotal Tax  Total Promotions  Item Total\n",
       "0 2019-04-01          35.00                3.5               0.0       38.50\n",
       "1 2019-04-01          16.99                1.7               0.0       18.69\n",
       "2 2019-04-01           9.99                1.0               0.0       10.99\n",
       "3 2019-04-04         147.98               14.8               0.0      162.78\n",
       "4 2019-04-05          14.99                1.5               0.0       16.49"
      ]
     },
     "execution_count": 9,
     "metadata": {},
     "output_type": "execute_result"
    }
   ],
   "source": [
    "df['Order Date'] = pd.to_datetime(df['Order Date'])\n",
    "df.head()"
   ]
  },
  {
   "cell_type": "markdown",
   "id": "a347a8fa",
   "metadata": {},
   "source": [
    "Statistical Analysis of Item Total"
   ]
  },
  {
   "cell_type": "markdown",
   "id": "b6858ece",
   "metadata": {},
   "source": [
    "Sum:"
   ]
  },
  {
   "cell_type": "code",
   "execution_count": 12,
   "id": "0090fee0",
   "metadata": {},
   "outputs": [
    {
     "data": {
      "text/plain": [
       "1878.1099999999997"
      ]
     },
     "execution_count": 12,
     "metadata": {},
     "output_type": "execute_result"
    }
   ],
   "source": [
    "df[\"Item Total\"].sum()"
   ]
  },
  {
   "cell_type": "markdown",
   "id": "9e41e662",
   "metadata": {},
   "source": [
    "Mean:"
   ]
  },
  {
   "cell_type": "code",
   "execution_count": 13,
   "id": "86e1013b",
   "metadata": {},
   "outputs": [
    {
     "data": {
      "text/plain": [
       "31.83237288135593"
      ]
     },
     "execution_count": 13,
     "metadata": {},
     "output_type": "execute_result"
    }
   ],
   "source": [
    "df[\"Item Total\"].mean()"
   ]
  },
  {
   "cell_type": "markdown",
   "id": "c10d5c2a",
   "metadata": {},
   "source": [
    "Median:"
   ]
  },
  {
   "cell_type": "code",
   "execution_count": 14,
   "id": "150f5dd9",
   "metadata": {},
   "outputs": [
    {
     "data": {
      "text/plain": [
       "16.49"
      ]
     },
     "execution_count": 14,
     "metadata": {},
     "output_type": "execute_result"
    }
   ],
   "source": [
    "df[\"Item Total\"].median()"
   ]
  },
  {
   "cell_type": "markdown",
   "id": "15db2b67",
   "metadata": {},
   "source": [
    "Max:"
   ]
  },
  {
   "cell_type": "code",
   "execution_count": 16,
   "id": "8bc96833",
   "metadata": {},
   "outputs": [
    {
     "data": {
      "text/plain": [
       "219.99"
      ]
     },
     "execution_count": 16,
     "metadata": {},
     "output_type": "execute_result"
    }
   ],
   "source": [
    "df[\"Item Total\"].max()"
   ]
  },
  {
   "cell_type": "markdown",
   "id": "2a1b848a",
   "metadata": {},
   "source": [
    "Min:"
   ]
  },
  {
   "cell_type": "code",
   "execution_count": 17,
   "id": "243c9faa",
   "metadata": {},
   "outputs": [
    {
     "data": {
      "text/plain": [
       "0.57"
      ]
     },
     "execution_count": 17,
     "metadata": {},
     "output_type": "execute_result"
    }
   ],
   "source": [
    "df[\"Item Total\"].min()"
   ]
  },
  {
   "cell_type": "markdown",
   "id": "911cbf1e",
   "metadata": {},
   "source": [
    "Standard Deviation:"
   ]
  },
  {
   "cell_type": "code",
   "execution_count": 18,
   "id": "c7254282",
   "metadata": {},
   "outputs": [
    {
     "data": {
      "text/plain": [
       "38.41670134912962"
      ]
     },
     "execution_count": 18,
     "metadata": {},
     "output_type": "execute_result"
    }
   ],
   "source": [
    "df[\"Item Total\"].std()"
   ]
  },
  {
   "cell_type": "markdown",
   "id": "da227c69",
   "metadata": {},
   "source": [
    "Summary Statistics of Monthly Spending Totals:"
   ]
  },
  {
   "cell_type": "markdown",
   "id": "d5b37433",
   "metadata": {},
   "source": [
    "Monthly Sum:"
   ]
  },
  {
   "cell_type": "code",
   "execution_count": 19,
   "id": "fa51cd70",
   "metadata": {},
   "outputs": [
    {
     "data": {
      "text/plain": [
       "Order Date\n",
       "April    423.83\n",
       "July     996.46\n",
       "June     141.96\n",
       "May      315.86\n",
       "Name: Item Total, dtype: float64"
      ]
     },
     "execution_count": 19,
     "metadata": {},
     "output_type": "execute_result"
    }
   ],
   "source": [
    "monthly_orders = df.groupby(df['Order Date'].dt.strftime('%B'))['Item Total'].sum()\n",
    "monthly_orders.head()"
   ]
  },
  {
   "cell_type": "markdown",
   "id": "0b9a2aef",
   "metadata": {},
   "source": [
    "Monthly Mean:"
   ]
  },
  {
   "cell_type": "code",
   "execution_count": 20,
   "id": "33897dca",
   "metadata": {},
   "outputs": [
    {
     "data": {
      "text/plain": [
       "Order Date\n",
       "April    42.383000\n",
       "July     39.858400\n",
       "June     23.660000\n",
       "May      17.547778\n",
       "Name: Item Total, dtype: float64"
      ]
     },
     "execution_count": 20,
     "metadata": {},
     "output_type": "execute_result"
    }
   ],
   "source": [
    "monthly_ordersmean = df.groupby(df['Order Date'].dt.strftime('%B'))['Item Total'].mean()\n",
    "monthly_ordersmean.head()"
   ]
  },
  {
   "cell_type": "markdown",
   "id": "c782b915",
   "metadata": {},
   "source": [
    "Monthly Median:"
   ]
  },
  {
   "cell_type": "code",
   "execution_count": 21,
   "id": "2efec139",
   "metadata": {},
   "outputs": [
    {
     "data": {
      "text/plain": [
       "Order Date\n",
       "April    34.265\n",
       "July     17.550\n",
       "June     14.225\n",
       "May      13.185\n",
       "Name: Item Total, dtype: float64"
      ]
     },
     "execution_count": 21,
     "metadata": {},
     "output_type": "execute_result"
    }
   ],
   "source": [
    "monthly_ordersmedian = df.groupby(df['Order Date'].dt.strftime('%B'))['Item Total'].median()\n",
    "monthly_ordersmedian.head()"
   ]
  },
  {
   "cell_type": "markdown",
   "id": "91a45304",
   "metadata": {},
   "source": [
    "Monthly Max:"
   ]
  },
  {
   "cell_type": "code",
   "execution_count": 22,
   "id": "3a2496db",
   "metadata": {},
   "outputs": [
    {
     "data": {
      "text/plain": [
       "Order Date\n",
       "April    162.78\n",
       "July     219.99\n",
       "June      57.19\n",
       "May       42.78\n",
       "Name: Item Total, dtype: float64"
      ]
     },
     "execution_count": 22,
     "metadata": {},
     "output_type": "execute_result"
    }
   ],
   "source": [
    "monthly_ordersmax = df.groupby(df['Order Date'].dt.strftime('%B'))['Item Total'].max()\n",
    "monthly_ordersmax.head()"
   ]
  },
  {
   "cell_type": "markdown",
   "id": "fff6b6f2",
   "metadata": {},
   "source": [
    "Monthly Min:"
   ]
  },
  {
   "cell_type": "code",
   "execution_count": 23,
   "id": "27077fcb",
   "metadata": {},
   "outputs": [
    {
     "data": {
      "text/plain": [
       "Order Date\n",
       "April    10.99\n",
       "July      0.57\n",
       "June     11.65\n",
       "May       7.92\n",
       "Name: Item Total, dtype: float64"
      ]
     },
     "execution_count": 23,
     "metadata": {},
     "output_type": "execute_result"
    }
   ],
   "source": [
    "monthly_ordersmin = df.groupby(df['Order Date'].dt.strftime('%B'))['Item Total'].min()\n",
    "monthly_ordersmin.head()"
   ]
  },
  {
   "cell_type": "markdown",
   "id": "dda0bd1c",
   "metadata": {},
   "source": [
    "Monthly Standard Deviation:"
   ]
  },
  {
   "cell_type": "code",
   "execution_count": 24,
   "id": "96cd902e",
   "metadata": {},
   "outputs": [
    {
     "data": {
      "text/plain": [
       "Order Date\n",
       "April    44.454675\n",
       "July     48.815499\n",
       "June     18.082206\n",
       "May      11.350102\n",
       "Name: Item Total, dtype: float64"
      ]
     },
     "execution_count": 24,
     "metadata": {},
     "output_type": "execute_result"
    }
   ],
   "source": [
    "monthly_ordersstdev = df.groupby(df['Order Date'].dt.strftime('%B'))['Item Total'].std()\n",
    "monthly_ordersstdev.head()"
   ]
  },
  {
   "cell_type": "markdown",
   "id": "a131a825",
   "metadata": {},
   "source": [
    "Data Visualization:"
   ]
  },
  {
   "cell_type": "markdown",
   "id": "eb1f3b4b",
   "metadata": {},
   "source": [
    "Daily Spending Bar Chart:"
   ]
  },
  {
   "cell_type": "code",
   "execution_count": 25,
   "id": "a6c19830",
   "metadata": {},
   "outputs": [
    {
     "data": {
      "text/plain": [
       "<AxesSubplot:xlabel='Order Date', ylabel='Dollars Spent'>"
      ]
     },
     "execution_count": 25,
     "metadata": {},
     "output_type": "execute_result"
    },
    {
     "data": {
      "image/png": "[encoded data removed]",
      "text/plain": [
       "<Figure size 1440x720 with 1 Axes>"
      ]
     },
     "metadata": {
      "needs_background": "light"
     },
     "output_type": "display_data"
    }
   ],
   "source": [
    "daily_orders = df.groupby('Order Date').sum()[\"Item Total\"]\n",
    "daily_orders.plot.bar(xlabel = 'Order Date', ylabel = 'Dollars Spent', figsize=(20,10))"
   ]
  },
  {
   "cell_type": "markdown",
   "id": "af45188a",
   "metadata": {},
   "source": [
    "Multiple Line Comparison of Cumulative Total Spending vs. Cumulative Tax Paid"
   ]
  },
  {
   "cell_type": "markdown",
   "id": "4419970a",
   "metadata": {},
   "source": [
    "Line Chart: "
   ]
  },
  {
   "cell_type": "code",
   "execution_count": 27,
   "id": "7a949f18",
   "metadata": {},
   "outputs": [
    {
     "data": {
      "image/png": "[encoded data removed]",
      "text/plain": [
       "<Figure size 1440x720 with 1 Axes>"
      ]
     },
     "metadata": {
      "needs_background": "light"
     },
     "output_type": "display_data"
    }
   ],
   "source": [
    "df = df.assign(TotalSum=df['Item Total'].cumsum())\n",
    "df = df.assign(TotalTaxSum=df['Item Subtotal Tax'].cumsum())\n",
    "\n",
    "plt.figure(figsize=(20, 10))\n",
    "plt.plot('Order Date', 'TotalSum', data=df)\n",
    "plt.plot('Order Date', 'TotalTaxSum', data=df)\n",
    "plt.legend(['Cumulative Sum of Total Spending', 'Cumulative Sum of Tax Paid'])\n",
    "plt.xlabel(\"Dollars Spent\")\n",
    "plt.ylabel(\"Order Date\")\n",
    "plt.show()"
   ]
  },
  {
   "cell_type": "markdown",
   "id": "2218780a",
   "metadata": {},
   "source": [
    "Bar Chart:"
   ]
  },
  {
   "cell_type": "code",
   "execution_count": 30,
   "id": "e153c36a",
   "metadata": {},
   "outputs": [
    {
     "data": {
      "image/png": "[encoded data removed]",
      "text/plain": [
       "<Figure size 1440x720 with 1 Axes>"
      ]
     },
     "metadata": {
      "needs_background": "light"
     },
     "output_type": "display_data"
    }
   ],
   "source": [
    "plt.figure(figsize=(20, 10))\n",
    "\n",
    "plt.bar('Order Date', 'TotalSum', data=df)\n",
    "plt.bar('Order Date', 'TotalTaxSum', data=df)\n",
    "plt.legend(['Cumulative Sum of Total Spending', 'Cumulative Sum of Tax Paid'])\n",
    "plt.xlabel(\"Order Date\")\n",
    "plt.ylabel(\"Dollars Spent\")\n",
    "plt.show()"
   ]
  },
  {
   "cell_type": "markdown",
   "id": "903d2945",
   "metadata": {},
   "source": [
    "Pie Chart of Total Spending By Month:"
   ]
  },
  {
   "cell_type": "code",
   "execution_count": 31,
   "id": "7033c3f1",
   "metadata": {},
   "outputs": [
    {
     "data": {
      "text/plain": [
       "<AxesSubplot:ylabel='Item Total'>"
      ]
     },
     "execution_count": 31,
     "metadata": {},
     "output_type": "execute_result"
    },
    {
     "data": {
      "image/png": "[encoded data removed]",
      "text/plain": [
       "<Figure size 360x360 with 1 Axes>"
      ]
     },
     "metadata": {},
     "output_type": "display_data"
    }
   ],
   "source": [
    "monthly_orders.plot.pie(figsize=(5,5))"
   ]
  }
 ],
 "metadata": {
  "kernelspec": {
   "display_name": "Python 3 (ipykernel)",
   "language": "python",
   "name": "python3"
  },
  "language_info": {
   "codemirror_mode": {
    "name": "ipython",
    "version": 3
   },
   "file_extension": ".py",
   "mimetype": "text/x-python",
   "name": "python",
   "nbconvert_exporter": "python",
   "pygments_lexer": "ipython3",
   "version": "3.9.7"
  }
 },
 "nbformat": 4,
 "nbformat_minor": 5
}
